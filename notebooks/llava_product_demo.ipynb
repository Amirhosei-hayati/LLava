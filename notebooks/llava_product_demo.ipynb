{
  "cells": [
    {
      "cell_type": "markdown",
      "id": "intro",
      "metadata": {},
      "source": [
        "# راه‌اندازی دمو تشخیص کالا با LLaVA\n",
        "\n",
        "این نوت‌بوک مراحل لازم برای اجرای اپلیکیشن تشخیص و توصیف کالای مبتنی بر **LLaVA** را در Google Colab یا محیط‌های مشابه شرح می‌دهد.\n"
      ]
    },
    {
      "cell_type": "markdown",
      "id": "install-heading",
      "metadata": {},
      "source": [
        "## 1. نصب وابستگی‌ها\n",
        "برای کاهش زمان اجرا، از نسخه‌های از پیش کامپایل‌شده کتابخانه‌ها استفاده می‌کنیم.\n"
      ]
    },
    {
      "cell_type": "code",
      "execution_count": null,
      "id": "install-code",
      "metadata": {},
      "outputs": [],
      "source": [
        "!pip -q install --upgrade pip\n",
        "!pip -q install torch torchvision --index-url https://download.pytorch.org/whl/cu118\n",
        "!pip -q install transformers accelerate safetensors gradio pillow huggingface_hub\n"
      ]
    },
    {
      "cell_type": "markdown",
      "id": "login-heading",
      "metadata": {},
      "source": [
        "## 2. ورود به Hugging Face (در صورت نیاز)\n",
        "اگر به مدل خصوصی دسترسی دارید یا نیاز به دانلود از طریق توکن دارید، دستور زیر را اجرا کنید. در غیر این صورت می‌توانید این مرحله را رد کنید.\n"
      ]
    },
    {
      "cell_type": "code",
      "execution_count": null,
      "id": "login-code",
      "metadata": {},
      "outputs": [],
      "source": [
        "from huggingface_hub import login\n",
        "login()\n"
      ]
    },
    {
      "cell_type": "markdown",
      "id": "env-heading",
      "metadata": {},
      "source": [
        "## 3. تنظیم متغیرهای محیطی اختیاری\n",
        "برای فعال‌سازی حالت 8-بیتی (در صورت نصب `bitsandbytes`) یا مشخص کردن توکن Hugging Face از سلول زیر استفاده کنید.\n"
      ]
    },
    {
      "cell_type": "code",
      "execution_count": null,
      "id": "env-code",
      "metadata": {},
      "outputs": [],
      "source": [
        "import os\n",
        "# برای فعال کردن حالت 8-بیتی، مقدار زیر را روی '1' بگذارید\n",
        "os.environ['LLAVA_USE_8BIT'] = os.environ.get('LLAVA_USE_8BIT', '0')\n",
        "# اگر login انجام داده‌اید، نیازی به تنظیم توکن نیست؛ در غیر این صورت می‌توانید به شکل زیر مقداردهی کنید:\n",
        "# os.environ['HUGGING_FACE_HUB_TOKEN'] = 'hf_xxx'\n"
      ]
    },
    {
      "cell_type": "markdown",
      "id": "run-heading",
      "metadata": {},
      "source": [
        "## 4. اجرای اپلیکیشن Gradio\n",
        "اسکریپت اصلی پروژه را مستقیماً از مخزن GitHub بارگیری و اجرا می‌کنیم. این اسکریپت رابط کاربری Gradio را راه‌اندازی می‌کند.\n"
      ]
    },
    {
      "cell_type": "code",
      "execution_count": null,
      "id": "run-code",
      "metadata": {},
      "outputs": [],
      "source": [
        "import subprocess, sys\n",
        "from pathlib import Path\n",
        "\n",
        "repo_url = \"https://github.com/<YOUR_USERNAME>/LLava.git\"\n",
        "repo_dir = Path('LLava')\n",
        "\n",
        "if not repo_dir.exists():\n",
        "    subprocess.run(['git', 'clone', repo_url], check=True)\n",
        "\n",
        "subprocess.run([sys.executable, 'app.py', '--share'], cwd=repo_dir, check=True)\n"
      ]
    },
    {
      "cell_type": "markdown",
      "id": "closing",
      "metadata": {},
      "source": [
        "پس از اجرای سلول بالا، لینک عمومی Gradio در خروجی نمایش داده می‌شود. روی آن کلیک کنید تا رابط وب باز شود. تصویر کالای خود را بارگذاری کنید تا توضیحات و دسته‌بندی پیشنهادی به‌طور خودکار تولید شود.\n"
      ]
    }
  ],
  "metadata": {
    "kernelspec": {
      "display_name": "Python 3",
      "language": "python",
      "name": "python3"
    },
    "language_info": {
      "name": "python",
      "version": "3.10"
    }
  },
  "nbformat": 4,
  "nbformat_minor": 5
}
